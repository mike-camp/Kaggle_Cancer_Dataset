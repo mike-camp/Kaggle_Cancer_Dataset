{
 "cells": [
  {
   "cell_type": "markdown",
   "metadata": {},
   "source": [
    "## Latent Dirichlet Allocation\n",
    "\n",
    "TODO, Explanation of how LDA works to generate vectors from sentences...."
   ]
  },
  {
   "cell_type": "code",
   "execution_count": 2,
   "metadata": {
    "collapsed": true
   },
   "outputs": [],
   "source": [
    "import pandas as pd\n",
    "import numpy as np\n",
    "import matplotlib.pyplot as plt\n",
    "%matplotlib inline\n",
    "from sklearn.decomposition import LatentDirichletAllocation\n",
    "from sklearn.feature_extraction.text import CountVectorizer"
   ]
  },
  {
   "cell_type": "code",
   "execution_count": 3,
   "metadata": {},
   "outputs": [],
   "source": [
    "df_variants = pd.read_csv('../data/training_variants.csv',index_col=0)"
   ]
  },
  {
   "cell_type": "code",
   "execution_count": 4,
   "metadata": {},
   "outputs": [
    {
     "data": {
      "text/html": [
       "<div>\n",
       "<style>\n",
       "    .dataframe thead tr:only-child th {\n",
       "        text-align: right;\n",
       "    }\n",
       "\n",
       "    .dataframe thead th {\n",
       "        text-align: left;\n",
       "    }\n",
       "\n",
       "    .dataframe tbody tr th {\n",
       "        vertical-align: top;\n",
       "    }\n",
       "</style>\n",
       "<table border=\"1\" class=\"dataframe\">\n",
       "  <thead>\n",
       "    <tr style=\"text-align: right;\">\n",
       "      <th></th>\n",
       "      <th>text</th>\n",
       "    </tr>\n",
       "  </thead>\n",
       "  <tbody>\n",
       "    <tr>\n",
       "      <th>0</th>\n",
       "      <td>[cyclin-depend, kinas, cdk, regul, varieti, fu...</td>\n",
       "    </tr>\n",
       "    <tr>\n",
       "      <th>1</th>\n",
       "      <td>[abstract, background, non-smal, cell, lung, c...</td>\n",
       "    </tr>\n",
       "    <tr>\n",
       "      <th>2</th>\n",
       "      <td>[abstract, background, non-smal, cell, lung, c...</td>\n",
       "    </tr>\n",
       "    <tr>\n",
       "      <th>3</th>\n",
       "      <td>[recent, evid, demonstr, acquir, uniparent, di...</td>\n",
       "    </tr>\n",
       "    <tr>\n",
       "      <th>4</th>\n",
       "      <td>[oncogen, mutat, monomer, casita, b-lineag, ly...</td>\n",
       "    </tr>\n",
       "  </tbody>\n",
       "</table>\n",
       "</div>"
      ],
      "text/plain": [
       "                                                text\n",
       "0  [cyclin-depend, kinas, cdk, regul, varieti, fu...\n",
       "1  [abstract, background, non-smal, cell, lung, c...\n",
       "2  [abstract, background, non-smal, cell, lung, c...\n",
       "3  [recent, evid, demonstr, acquir, uniparent, di...\n",
       "4  [oncogen, mutat, monomer, casita, b-lineag, ly..."
      ]
     },
     "execution_count": 4,
     "metadata": {},
     "output_type": "execute_result"
    }
   ],
   "source": [
    "tokenized_data = pd.read_pickle('../data/df_pk.pk')\n",
    "tokenized_data.head()"
   ]
  },
  {
   "cell_type": "code",
   "execution_count": 44,
   "metadata": {},
   "outputs": [],
   "source": [
    "def return_same(ls):\n",
    "    return ls\n",
    "from sklearn.feature_extraction.text import HashingVectorizer\n",
    "from sklearn.pipeline import Pipeline\n",
    "pipe = Pipeline([('encoder',CountVectorizer(analyzer=return_same,max_df=.5,\n",
    "                                   min_df=50)),('lda',LatentDirichletAllocation(n_topics=3, max_iter=5,\n",
    "                                learning_method='online',\n",
    "                                learning_offset=50.,\n",
    "                                random_state=0))])\n"
   ]
  },
  {
   "cell_type": "code",
   "execution_count": 47,
   "metadata": {
    "collapsed": true
   },
   "outputs": [],
   "source": [
    "y = df_variants.Class[:2000]"
   ]
  },
  {
   "cell_type": "code",
   "execution_count": 45,
   "metadata": {},
   "outputs": [
    {
     "data": {
      "text/plain": [
       "array([[  3.10193498e-04,   5.20408012e-01,   4.79281794e-01],\n",
       "       [  2.79676155e-01,   6.20330980e-01,   9.99928648e-02],\n",
       "       [  2.79676155e-01,   6.20330980e-01,   9.99928648e-02],\n",
       "       [  1.01162157e-02,   9.89538655e-01,   3.45129436e-04],\n",
       "       [  3.44600001e-01,   1.32845961e-01,   5.22554038e-01],\n",
       "       [  3.44600001e-01,   1.32845961e-01,   5.22554038e-01],\n",
       "       [  3.44600001e-01,   1.32845961e-01,   5.22554038e-01],\n",
       "       [  4.52360290e-03,   9.95347929e-01,   1.28468272e-04],\n",
       "       [  1.74931861e-01,   4.78142397e-01,   3.46925742e-01],\n",
       "       [  3.59307165e-04,   8.40363930e-01,   1.59276763e-01]])"
      ]
     },
     "execution_count": 45,
     "metadata": {},
     "output_type": "execute_result"
    }
   ],
   "source": [
    "X = tokenized_data.text.values\n",
    "x_tf = pipe.fit_transform(X[:2000])\n",
    "x_tf[:10]"
   ]
  },
  {
   "cell_type": "code",
   "execution_count": 48,
   "metadata": {},
   "outputs": [
    {
     "data": {
      "text/plain": [
       "array([ 1.57916671,  1.74207862,  1.57760988])"
      ]
     },
     "execution_count": 48,
     "metadata": {},
     "output_type": "execute_result"
    }
   ],
   "source": [
    "from sklearn.linear_model import LogisticRegression\n",
    "from sklearn.svm import SVC\n",
    "from sklearn.model_selection import cross_val_score\n",
    "-cross_val_score(SVC(probability=True),x_tf,y,scoring='neg_log_loss')"
   ]
  },
  {
   "cell_type": "code",
   "execution_count": 49,
   "metadata": {},
   "outputs": [
    {
     "data": {
      "text/plain": [
       "array([ 1.6006102 ,  1.72516505,  1.58972676])"
      ]
     },
     "execution_count": 49,
     "metadata": {},
     "output_type": "execute_result"
    }
   ],
   "source": [
    "-cross_val_score(LogisticRegression(),x_tf,y,scoring='neg_log_loss')"
   ]
  },
  {
   "cell_type": "code",
   "execution_count": 51,
   "metadata": {},
   "outputs": [
    {
     "data": {
      "text/plain": [
       "array([ 4.51564208,  6.08713479,  3.97203198])"
      ]
     },
     "execution_count": 51,
     "metadata": {},
     "output_type": "execute_result"
    }
   ],
   "source": [
    "from sklearn.ensemble import RandomForestClassifier\n",
    "-cross_val_score(RandomForestClassifier(n_estimators=1000),x_tf,y,scoring='neg_log_loss')"
   ]
  },
  {
   "cell_type": "code",
   "execution_count": 53,
   "metadata": {},
   "outputs": [
    {
     "data": {
      "text/plain": [
       "7    0.2975\n",
       "4    0.2165\n",
       "1    0.1970\n",
       "2    0.1410\n",
       "5    0.0505\n",
       "6    0.0430\n",
       "3    0.0310\n",
       "9    0.0175\n",
       "8    0.0060\n",
       "Name: Class, dtype: float64"
      ]
     },
     "execution_count": 53,
     "metadata": {},
     "output_type": "execute_result"
    }
   ],
   "source": [
    "y.value_counts()/y.size"
   ]
  },
  {
   "cell_type": "code",
   "execution_count": null,
   "metadata": {
    "collapsed": true
   },
   "outputs": [],
   "source": []
  }
 ],
 "metadata": {
  "kernelspec": {
   "display_name": "Python 3",
   "language": "python",
   "name": "python3"
  },
  "language_info": {
   "codemirror_mode": {
    "name": "ipython",
    "version": 3
   },
   "file_extension": ".py",
   "mimetype": "text/x-python",
   "name": "python",
   "nbconvert_exporter": "python",
   "pygments_lexer": "ipython3",
   "version": "3.6.1"
  }
 },
 "nbformat": 4,
 "nbformat_minor": 2
}
