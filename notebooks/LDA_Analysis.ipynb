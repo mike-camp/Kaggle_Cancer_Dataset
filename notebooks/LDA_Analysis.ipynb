{
 "cells": [
  {
   "cell_type": "markdown",
   "metadata": {},
   "source": [
    "## Latent Dirichlet Allocation\n",
    "\n",
    "TODO, Explanation of how LDA works to generate vectors from sentences...."
   ]
  },
  {
   "cell_type": "code",
   "execution_count": 1,
   "metadata": {
    "collapsed": true
   },
   "outputs": [],
   "source": [
    "import pandas as pd\n",
    "import numpy as np\n",
    "import matplotlib.pyplot as plt\n",
    "%matplotlib inline\n",
    "from sklearn.decomposition import LatentDirichletAllocation\n",
    "from sklearn.feature_extraction.text import CountVectorizer"
   ]
  },
  {
   "cell_type": "code",
   "execution_count": 2,
   "metadata": {
    "collapsed": true
   },
   "outputs": [],
   "source": [
    "df_variants = pd.read_csv('../data/training_variants.csv',index_col=0)"
   ]
  },
  {
   "cell_type": "code",
   "execution_count": 3,
   "metadata": {},
   "outputs": [
    {
     "data": {
      "text/html": [
       "<div>\n",
       "<style>\n",
       "    .dataframe thead tr:only-child th {\n",
       "        text-align: right;\n",
       "    }\n",
       "\n",
       "    .dataframe thead th {\n",
       "        text-align: left;\n",
       "    }\n",
       "\n",
       "    .dataframe tbody tr th {\n",
       "        vertical-align: top;\n",
       "    }\n",
       "</style>\n",
       "<table border=\"1\" class=\"dataframe\">\n",
       "  <thead>\n",
       "    <tr style=\"text-align: right;\">\n",
       "      <th></th>\n",
       "      <th>Gene</th>\n",
       "      <th>Variation</th>\n",
       "      <th>Class</th>\n",
       "      <th>text</th>\n",
       "      <th>processed</th>\n",
       "    </tr>\n",
       "    <tr>\n",
       "      <th>ID</th>\n",
       "      <th></th>\n",
       "      <th></th>\n",
       "      <th></th>\n",
       "      <th></th>\n",
       "      <th></th>\n",
       "    </tr>\n",
       "  </thead>\n",
       "  <tbody>\n",
       "    <tr>\n",
       "      <th>0</th>\n",
       "      <td>FAM58A</td>\n",
       "      <td>Truncating Mutations</td>\n",
       "      <td>1</td>\n",
       "      <td>Cyclin-dependent kinases (CDKs) regulate a var...</td>\n",
       "      <td>[cyclin-depend, kinas, cdk, regul, varieti, fu...</td>\n",
       "    </tr>\n",
       "    <tr>\n",
       "      <th>1</th>\n",
       "      <td>CBL</td>\n",
       "      <td>W802*</td>\n",
       "      <td>2</td>\n",
       "      <td>Abstract Background  Non-small cell lung canc...</td>\n",
       "      <td>[abstract, background, non-smal, cell, lung, c...</td>\n",
       "    </tr>\n",
       "    <tr>\n",
       "      <th>2</th>\n",
       "      <td>CBL</td>\n",
       "      <td>Q249E</td>\n",
       "      <td>2</td>\n",
       "      <td>Abstract Background  Non-small cell lung canc...</td>\n",
       "      <td>[abstract, background, non-smal, cell, lung, c...</td>\n",
       "    </tr>\n",
       "    <tr>\n",
       "      <th>3</th>\n",
       "      <td>CBL</td>\n",
       "      <td>N454D</td>\n",
       "      <td>3</td>\n",
       "      <td>Recent evidence has demonstrated that acquired...</td>\n",
       "      <td>[recent, evid, demonstr, acquir, uniparent, di...</td>\n",
       "    </tr>\n",
       "    <tr>\n",
       "      <th>4</th>\n",
       "      <td>CBL</td>\n",
       "      <td>L399V</td>\n",
       "      <td>4</td>\n",
       "      <td>Oncogenic mutations in the monomeric Casitas B...</td>\n",
       "      <td>[oncogen, mutat, monomer, casita, b-lineag, ly...</td>\n",
       "    </tr>\n",
       "  </tbody>\n",
       "</table>\n",
       "</div>"
      ],
      "text/plain": [
       "      Gene             Variation  Class  \\\n",
       "ID                                        \n",
       "0   FAM58A  Truncating Mutations      1   \n",
       "1      CBL                 W802*      2   \n",
       "2      CBL                 Q249E      2   \n",
       "3      CBL                 N454D      3   \n",
       "4      CBL                 L399V      4   \n",
       "\n",
       "                                                 text  \\\n",
       "ID                                                      \n",
       "0   Cyclin-dependent kinases (CDKs) regulate a var...   \n",
       "1    Abstract Background  Non-small cell lung canc...   \n",
       "2    Abstract Background  Non-small cell lung canc...   \n",
       "3   Recent evidence has demonstrated that acquired...   \n",
       "4   Oncogenic mutations in the monomeric Casitas B...   \n",
       "\n",
       "                                            processed  \n",
       "ID                                                     \n",
       "0   [cyclin-depend, kinas, cdk, regul, varieti, fu...  \n",
       "1   [abstract, background, non-smal, cell, lung, c...  \n",
       "2   [abstract, background, non-smal, cell, lung, c...  \n",
       "3   [recent, evid, demonstr, acquir, uniparent, di...  \n",
       "4   [oncogen, mutat, monomer, casita, b-lineag, ly...  "
      ]
     },
     "execution_count": 3,
     "metadata": {},
     "output_type": "execute_result"
    }
   ],
   "source": [
    "tokenized_data = pd.read_pickle('../data/new_tokens.pk')\n",
    "tokenized_data.head()\n",
    "df = pd.merge(df_variants,tokenized_data,left_index=True,right_index=True)\n",
    "df.head()"
   ]
  },
  {
   "cell_type": "code",
   "execution_count": 4,
   "metadata": {
    "collapsed": true
   },
   "outputs": [],
   "source": [
    "def return_same(ls):\n",
    "    return ls\n",
    "from sklearn.feature_extraction.text import HashingVectorizer\n",
    "from sklearn.feature_extraction.text import CountVectorizer\n",
    "from sklearn.pipeline import Pipeline\n",
    "pipe = Pipeline([('encoder',CountVectorizer(analyzer=return_same,max_df=.9,\n",
    "                                   min_df=50)),('lda',LatentDirichletAllocation(n_topics=50, max_iter=5,\n",
    "                                learning_method='online',\n",
    "                                learning_offset=50.,\n",
    "                                random_state=0,n_jobs=-1))])"
   ]
  },
  {
   "cell_type": "code",
   "execution_count": 5,
   "metadata": {},
   "outputs": [
    {
     "data": {
      "text/plain": [
       "array([[  4.21371707e-02,   8.37871806e-06,   4.12374461e-01,\n",
       "          8.37871806e-06,   8.37871806e-06,   8.37871806e-06,\n",
       "          8.37871806e-06,   8.37871806e-06,   8.37871806e-06,\n",
       "          8.37871806e-06,   8.37871806e-06,   8.37871806e-06,\n",
       "          8.37871806e-06,   8.37871806e-06,   8.37871806e-06,\n",
       "          8.37871806e-06,   1.17868180e-03,   8.37871806e-06,\n",
       "          8.37871806e-06,   6.79067330e-02,   1.43459682e-02,\n",
       "          8.37871806e-06,   5.31150102e-02,   8.37871806e-06,\n",
       "          8.37871806e-06,   1.85187028e-01,   8.37871806e-06,\n",
       "          8.37871806e-06,   7.49427590e-02,   8.37871806e-06,\n",
       "          7.16238077e-03,   8.37871806e-06,   8.37871806e-06,\n",
       "          8.37871806e-06,   8.37871806e-06,   8.37871806e-06,\n",
       "          8.89286896e-02,   8.37871806e-06,   8.37871806e-06,\n",
       "          8.37871806e-06,   8.37871806e-06,   1.29646361e-02,\n",
       "          8.37871806e-06,   8.37871806e-06,   8.37871806e-06,\n",
       "          8.37871806e-06,   8.37871806e-06,   8.37871806e-06,\n",
       "          8.37871806e-06,   3.94380902e-02],\n",
       "       [  9.12825194e-06,   9.12825194e-06,   2.14930640e-01,\n",
       "          1.26480923e-02,   9.12825194e-06,   9.12825194e-06,\n",
       "          9.12825194e-06,   9.12825194e-06,   3.40625919e-03,\n",
       "          9.12825194e-06,   9.12825194e-06,   9.12825194e-06,\n",
       "          9.12825194e-06,   9.12825194e-06,   9.12825194e-06,\n",
       "          9.12825194e-06,   9.12825194e-06,   9.12825194e-06,\n",
       "          9.12825194e-06,   1.18451927e-01,   9.12825194e-06,\n",
       "          9.12825194e-06,   9.12825194e-06,   9.12825194e-06,\n",
       "          9.12825194e-06,   9.12825194e-06,   9.12825194e-06,\n",
       "          9.12825194e-06,   9.12825194e-06,   9.12825194e-06,\n",
       "          5.11197801e-03,   9.12825194e-06,   9.12825194e-06,\n",
       "          3.37001756e-01,   1.55792606e-02,   9.12825194e-06,\n",
       "          9.60649397e-02,   9.12825194e-06,   9.12825194e-06,\n",
       "          9.12825194e-06,   9.12825194e-06,   9.12825194e-06,\n",
       "          9.12825194e-06,   9.12825194e-06,   9.12825194e-06,\n",
       "          9.12825194e-06,   9.12825194e-06,   1.96430889e-01,\n",
       "          9.12825194e-06,   9.12825194e-06],\n",
       "       [  9.12825194e-06,   9.12825194e-06,   2.14930640e-01,\n",
       "          1.26480923e-02,   9.12825194e-06,   9.12825194e-06,\n",
       "          9.12825194e-06,   9.12825194e-06,   3.40625919e-03,\n",
       "          9.12825194e-06,   9.12825194e-06,   9.12825194e-06,\n",
       "          9.12825194e-06,   9.12825194e-06,   9.12825194e-06,\n",
       "          9.12825194e-06,   9.12825194e-06,   9.12825194e-06,\n",
       "          9.12825194e-06,   1.18451927e-01,   9.12825194e-06,\n",
       "          9.12825194e-06,   9.12825194e-06,   9.12825194e-06,\n",
       "          9.12825194e-06,   9.12825194e-06,   9.12825194e-06,\n",
       "          9.12825194e-06,   9.12825194e-06,   9.12825194e-06,\n",
       "          5.11197801e-03,   9.12825194e-06,   9.12825194e-06,\n",
       "          3.37001756e-01,   1.55792606e-02,   9.12825194e-06,\n",
       "          9.60649397e-02,   9.12825194e-06,   9.12825194e-06,\n",
       "          9.12825194e-06,   9.12825194e-06,   9.12825194e-06,\n",
       "          9.12825194e-06,   9.12825194e-06,   9.12825194e-06,\n",
       "          9.12825194e-06,   9.12825194e-06,   1.96430889e-01,\n",
       "          9.12825194e-06,   9.12825194e-06],\n",
       "       [  7.41575866e-03,   1.52260007e-02,   8.40336134e-06,\n",
       "          8.40336134e-06,   8.40336134e-06,   8.40336134e-06,\n",
       "          8.40336134e-06,   8.40336134e-06,   8.31919474e-02,\n",
       "          8.40336134e-06,   8.40336134e-06,   8.40336134e-06,\n",
       "          8.40336134e-06,   8.40336134e-06,   8.40336134e-06,\n",
       "          8.40336134e-06,   8.40336134e-06,   8.40336134e-06,\n",
       "          8.40336134e-06,   5.98470972e-02,   8.40336134e-06,\n",
       "          8.40336134e-06,   8.40336134e-06,   8.40336134e-06,\n",
       "          8.40336134e-06,   8.40336134e-06,   8.40336134e-06,\n",
       "          8.40336134e-06,   8.40336134e-06,   8.40336134e-06,\n",
       "          8.40336134e-06,   8.40336134e-06,   8.40336134e-06,\n",
       "          8.40336134e-06,   1.05585263e-01,   8.40336134e-06,\n",
       "          8.40336134e-06,   8.40336134e-06,   8.40336134e-06,\n",
       "          8.40336134e-06,   8.40336134e-06,   8.40336134e-06,\n",
       "          8.40336134e-06,   8.40336134e-06,   8.40336134e-06,\n",
       "          8.40336134e-06,   8.40336134e-06,   3.18845886e-01,\n",
       "          8.40336134e-06,   4.09526703e-01],\n",
       "       [  7.85545954e-06,   7.85545954e-06,   7.85545954e-06,\n",
       "          7.85545954e-06,   7.85545954e-06,   7.85545954e-06,\n",
       "          7.85545954e-06,   7.85545954e-06,   7.85545954e-06,\n",
       "          7.85545954e-06,   7.85545954e-06,   7.85545954e-06,\n",
       "          7.85545954e-06,   7.85545954e-06,   7.85545954e-06,\n",
       "          7.85545954e-06,   7.85545954e-06,   7.85545954e-06,\n",
       "          7.85545954e-06,   7.85545954e-06,   7.85545954e-06,\n",
       "          7.85545954e-06,   7.85545954e-06,   7.85545954e-06,\n",
       "          7.85545954e-06,   7.85545954e-06,   7.85545954e-06,\n",
       "          7.85545954e-06,   7.85545954e-06,   7.85545954e-06,\n",
       "          7.85545954e-06,   7.85545954e-06,   7.85545954e-06,\n",
       "          7.85545954e-06,   7.85545954e-06,   7.85545954e-06,\n",
       "          7.85545954e-06,   7.85545954e-06,   7.85545954e-06,\n",
       "          7.85545954e-06,   7.85545954e-06,   7.85545954e-06,\n",
       "          7.85545954e-06,   7.85545954e-06,   7.85545954e-06,\n",
       "          7.85545954e-06,   7.85545954e-06,   9.99615082e-01,\n",
       "          7.85545954e-06,   7.85545954e-06],\n",
       "       [  7.85545954e-06,   7.85545954e-06,   7.85545954e-06,\n",
       "          7.85545954e-06,   7.85545954e-06,   7.85545954e-06,\n",
       "          7.85545954e-06,   7.85545954e-06,   7.85545954e-06,\n",
       "          7.85545954e-06,   7.85545954e-06,   7.85545954e-06,\n",
       "          7.85545954e-06,   7.85545954e-06,   7.85545954e-06,\n",
       "          7.85545954e-06,   7.85545954e-06,   7.85545954e-06,\n",
       "          7.85545954e-06,   7.85545954e-06,   7.85545954e-06,\n",
       "          7.85545954e-06,   7.85545954e-06,   7.85545954e-06,\n",
       "          7.85545954e-06,   7.85545954e-06,   7.85545954e-06,\n",
       "          7.85545954e-06,   7.85545954e-06,   7.85545954e-06,\n",
       "          7.85545954e-06,   7.85545954e-06,   7.85545954e-06,\n",
       "          7.85545954e-06,   7.85545954e-06,   7.85545954e-06,\n",
       "          7.85545954e-06,   7.85545954e-06,   7.85545954e-06,\n",
       "          7.85545954e-06,   7.85545954e-06,   7.85545954e-06,\n",
       "          7.85545954e-06,   7.85545954e-06,   7.85545954e-06,\n",
       "          7.85545954e-06,   7.85545954e-06,   9.99615082e-01,\n",
       "          7.85545954e-06,   7.85545954e-06],\n",
       "       [  7.85545954e-06,   7.85545954e-06,   7.85545954e-06,\n",
       "          7.85545954e-06,   7.85545954e-06,   7.85545954e-06,\n",
       "          7.85545954e-06,   7.85545954e-06,   7.85545954e-06,\n",
       "          7.85545954e-06,   7.85545954e-06,   7.85545954e-06,\n",
       "          7.85545954e-06,   7.85545954e-06,   7.85545954e-06,\n",
       "          7.85545954e-06,   7.85545954e-06,   7.85545954e-06,\n",
       "          7.85545954e-06,   7.85545954e-06,   7.85545954e-06,\n",
       "          7.85545954e-06,   7.85545954e-06,   7.85545954e-06,\n",
       "          7.85545954e-06,   7.85545954e-06,   7.85545954e-06,\n",
       "          7.85545954e-06,   7.85545954e-06,   7.85545954e-06,\n",
       "          7.85545954e-06,   7.85545954e-06,   7.85545954e-06,\n",
       "          7.85545954e-06,   7.85545954e-06,   7.85545954e-06,\n",
       "          7.85545954e-06,   7.85545954e-06,   7.85545954e-06,\n",
       "          7.85545954e-06,   7.85545954e-06,   7.85545954e-06,\n",
       "          7.85545954e-06,   7.85545954e-06,   7.85545954e-06,\n",
       "          7.85545954e-06,   7.85545954e-06,   9.99615082e-01,\n",
       "          7.85545954e-06,   7.85545954e-06],\n",
       "       [  3.14574979e-03,   3.14021039e-06,   1.11958404e-01,\n",
       "          3.14021039e-06,   3.14021039e-06,   3.14021039e-06,\n",
       "          3.14021039e-06,   3.14021039e-06,   9.67813132e-02,\n",
       "          1.97011985e-03,   2.86210336e-02,   3.14021039e-06,\n",
       "          3.14021039e-06,   3.14021039e-06,   3.14021039e-06,\n",
       "          3.14021039e-06,   3.14021039e-06,   3.14021039e-06,\n",
       "          3.14021039e-06,   6.93348989e-02,   3.14021039e-06,\n",
       "          1.06039675e-04,   3.14021039e-06,   3.14021039e-06,\n",
       "          3.14021039e-06,   3.14021039e-06,   3.14021039e-06,\n",
       "          3.14021039e-06,   3.14021039e-06,   3.14021039e-06,\n",
       "          3.14021039e-06,   3.14021039e-06,   2.01539973e-03,\n",
       "          3.14021039e-06,   1.51394187e-01,   3.14021039e-06,\n",
       "          2.57173547e-02,   3.14021039e-06,   3.14021039e-06,\n",
       "          3.14021039e-06,   3.14021039e-06,   3.14021039e-06,\n",
       "          3.14021039e-06,   1.82750730e-03,   3.14021039e-06,\n",
       "          3.14021039e-06,   3.14021039e-06,   1.90163197e-01,\n",
       "          3.14021039e-06,   3.16848608e-01],\n",
       "       [  4.11268764e-06,   4.11268764e-06,   2.26859899e-01,\n",
       "          4.11268764e-06,   4.11268764e-06,   4.11268764e-06,\n",
       "          4.11268764e-06,   4.11268764e-06,   1.30766796e-02,\n",
       "          4.11268764e-06,   4.11268764e-06,   4.11268764e-06,\n",
       "          4.11268764e-06,   4.11268764e-06,   4.11268764e-06,\n",
       "          4.11268764e-06,   4.11268764e-06,   4.11268764e-06,\n",
       "          4.11268764e-06,   4.11268764e-06,   4.11268764e-06,\n",
       "          4.11268764e-06,   4.11268764e-06,   4.11268764e-06,\n",
       "          4.11268764e-06,   4.11268764e-06,   4.11268764e-06,\n",
       "          4.11268764e-06,   4.11268764e-06,   2.05866324e-02,\n",
       "          4.11268764e-06,   4.11268764e-06,   4.11268764e-06,\n",
       "          4.11268764e-06,   6.96140831e-03,   4.11268764e-06,\n",
       "          4.11268764e-06,   4.11268764e-06,   4.11268764e-06,\n",
       "          4.11268764e-06,   4.11268764e-06,   4.11268764e-06,\n",
       "          4.11268764e-06,   4.11268764e-06,   4.11268764e-06,\n",
       "          4.11268764e-06,   4.11268764e-06,   7.32330310e-01,\n",
       "          4.11268764e-06,   4.11268764e-06],\n",
       "       [  8.62812770e-06,   8.62812770e-06,   5.05098180e-01,\n",
       "          8.62812770e-06,   8.62812770e-06,   8.62812770e-06,\n",
       "          8.62812770e-06,   8.62812770e-06,   6.54012759e-02,\n",
       "          8.62812770e-06,   8.62812770e-06,   8.62812770e-06,\n",
       "          8.62812770e-06,   8.62812770e-06,   8.62812770e-06,\n",
       "          8.62812770e-06,   8.62812770e-06,   8.62812770e-06,\n",
       "          8.62812770e-06,   8.62812770e-06,   8.62812770e-06,\n",
       "          8.62812770e-06,   8.62812770e-06,   8.62812770e-06,\n",
       "          8.62812770e-06,   8.62812770e-06,   8.62812770e-06,\n",
       "          8.62812770e-06,   8.62812770e-06,   4.03970907e-02,\n",
       "          8.62812770e-06,   8.62812770e-06,   8.62812770e-06,\n",
       "          8.62812770e-06,   2.10877634e-02,   8.62812770e-06,\n",
       "          8.62812770e-06,   8.62812770e-06,   8.62812770e-06,\n",
       "          8.62812770e-06,   8.62812770e-06,   8.62812770e-06,\n",
       "          8.62812770e-06,   8.62812770e-06,   8.62812770e-06,\n",
       "          8.62812770e-06,   8.62812770e-06,   3.67627425e-01,\n",
       "          8.62812770e-06,   8.62812770e-06]])"
      ]
     },
     "execution_count": 5,
     "metadata": {},
     "output_type": "execute_result"
    }
   ],
   "source": [
    "X = df.processed.values\n",
    "x_tf = pipe.fit_transform(X)\n",
    "x_tf[:10]"
   ]
  },
  {
   "cell_type": "code",
   "execution_count": 6,
   "metadata": {},
   "outputs": [
    {
     "data": {
      "text/plain": [
       "array([ 1.72749109,  1.77404463,  1.96317633])"
      ]
     },
     "execution_count": 6,
     "metadata": {},
     "output_type": "execute_result"
    }
   ],
   "source": [
    "from sklearn.linear_model import LogisticRegression\n",
    "from sklearn.svm import SVC\n",
    "from sklearn.model_selection import cross_val_score\n",
    "-cross_val_score(SVC(probability=True),x_tf,df.Class,scoring='neg_log_loss')"
   ]
  },
  {
   "cell_type": "code",
   "execution_count": 7,
   "metadata": {},
   "outputs": [
    {
     "data": {
      "text/plain": [
       "array([ 1.70167561,  1.69297151,  1.6944934 ])"
      ]
     },
     "execution_count": 7,
     "metadata": {},
     "output_type": "execute_result"
    }
   ],
   "source": [
    "from xgboost import XGBClassifier\n",
    "-cross_val_score(LogisticRegression(),x_tf,df.Class,scoring='neg_log_loss')"
   ]
  },
  {
   "cell_type": "code",
   "execution_count": 12,
   "metadata": {},
   "outputs": [
    {
     "data": {
      "text/plain": [
       "array([ 2.93187115,  2.53994374,  2.44306664])"
      ]
     },
     "execution_count": 12,
     "metadata": {},
     "output_type": "execute_result"
    }
   ],
   "source": [
    "from sklearn.ensemble import RandomForestClassifier\n",
    "-cross_val_score(RandomForestClassifier(n_estimators=1000,n_jobs=-1),x_tf,df.Class,scoring='neg_log_loss')"
   ]
  },
  {
   "cell_type": "code",
   "execution_count": 13,
   "metadata": {},
   "outputs": [
    {
     "data": {
      "text/plain": [
       "array([ 7.41845683,  8.36679249,  6.13861137])"
      ]
     },
     "execution_count": 13,
     "metadata": {},
     "output_type": "execute_result"
    }
   ],
   "source": [
    "xgbc = XGBClassifier(n_estimators=10000,n_jobs=-1,subsample=.5)\n",
    "-cross_val_score(xgbc,x_tf,df.Class,scoring='neg_log_loss')"
   ]
  },
  {
   "cell_type": "code",
   "execution_count": 8,
   "metadata": {},
   "outputs": [
    {
     "name": "stdout",
     "output_type": "stream",
     "text": [
      "done transforming data\n"
     ]
    },
    {
     "data": {
      "text/plain": [
       "array([ 1.76906175,  1.78903816,  1.60486485])"
      ]
     },
     "execution_count": 8,
     "metadata": {},
     "output_type": "execute_result"
    }
   ],
   "source": [
    "cv = CountVectorizer(analyzer=return_same,max_df=.9,\n",
    "                                   min_df=50)\n",
    "X_count = cv.fit_transform(df.processed)\n",
    "print('done transforming data')\n",
    "xgbc = XGBClassifier(n_estimators=100,n_jobs=-1,subsample=.5)\n",
    "-cross_val_score(xgbc,X_count,df.Class,scoring='neg_log_loss',n_jobs=1)"
   ]
  },
  {
   "cell_type": "code",
   "execution_count": 14,
   "metadata": {},
   "outputs": [
    {
     "name": "stdout",
     "output_type": "stream",
     "text": [
      "done transforming data\n"
     ]
    },
    {
     "data": {
      "text/plain": [
       "array([ 1.81373625,  1.82292181,  1.62473596])"
      ]
     },
     "execution_count": 14,
     "metadata": {},
     "output_type": "execute_result"
    }
   ],
   "source": [
    "cv = CountVectorizer(analyzer=return_same,max_df=.9,\n",
    "                                   min_df=100)\n",
    "X_count = cv.fit_transform(df.processed)\n",
    "print('done transforming data')\n",
    "xgbc = XGBClassifier(n_estimators=2000,max_depth=2,learning_rate=.01,n_jobs=-1,subsample=.5)\n",
    "-cross_val_score(xgbc,X_count,df.Class,scoring='neg_log_loss',n_jobs=1)"
   ]
  },
  {
   "cell_type": "code",
   "execution_count": 19,
   "metadata": {},
   "outputs": [
    {
     "data": {
      "text/plain": [
       "array([[105,   1,   3,  18,  11,   4,  10,   0,   0],\n",
       "       [  3,  42,   0,   6,   3,   5,  49,   0,   0],\n",
       "       [  1,   0,   8,   7,   1,   0,   2,   0,   0],\n",
       "       [ 33,   1,   5, 124,   2,   1,  15,   0,   0],\n",
       "       [ 13,   4,   2,   7,  26,   4,   7,   0,   0],\n",
       "       [  5,   3,   0,   6,   2,  39,   9,   0,   0],\n",
       "       [  2,  29,   8,   5,   3,   0, 178,   0,   2],\n",
       "       [  0,   1,   0,   1,   0,   0,   2,   0,   1],\n",
       "       [  1,   1,   0,   0,   0,   0,   0,   0,  10]])"
      ]
     },
     "execution_count": 19,
     "metadata": {},
     "output_type": "execute_result"
    }
   ],
   "source": [
    "from sklearn.metrics import confusion_matrix\n",
    "from sklearn.model_selection import train_test_split\n",
    "x_train,x_test,y_train,y_test = train_test_split(X_count,df.Class)\n",
    "xgbc.fit(x_train,y_train)\n",
    "pred = xgbc.predict(x_test)\n",
    "confusion_matrix(y_test,pred)"
   ]
  },
  {
   "cell_type": "code",
   "execution_count": 21,
   "metadata": {},
   "outputs": [
    {
     "name": "stdout",
     "output_type": "stream",
     "text": [
      "done transforming data\n"
     ]
    },
    {
     "data": {
      "text/plain": [
       "array([ 2.00391501,  2.23833243,  1.76744794])"
      ]
     },
     "execution_count": 21,
     "metadata": {},
     "output_type": "execute_result"
    }
   ],
   "source": [
    "cv = CountVectorizer(analyzer=return_same,max_df=.9,\n",
    "                                   min_df=100)\n",
    "X_count = cv.fit_transform(df.processed)\n",
    "print('done transforming data')\n",
    "xgbc = XGBClassifier(n_estimators=2000,max_depth=4,learning_rate=.01,n_jobs=-1,subsample=.5)\n",
    "-cross_val_score(xgbc,X_count,df.Class,scoring='neg_log_loss',n_jobs=1)"
   ]
  },
  {
   "cell_type": "code",
   "execution_count": 22,
   "metadata": {},
   "outputs": [
    {
     "name": "stdout",
     "output_type": "stream",
     "text": [
      "done transforming data\n"
     ]
    },
    {
     "data": {
      "text/plain": [
       "array([ 2.00598142,  2.23353243,  1.76561134])"
      ]
     },
     "execution_count": 22,
     "metadata": {},
     "output_type": "execute_result"
    }
   ],
   "source": [
    "cv = CountVectorizer(analyzer=return_same,max_df=.9,\n",
    "                                   min_df=300)\n",
    "X_count = cv.fit_transform(df.processed)\n",
    "print('done transforming data')\n",
    "xgbc = XGBClassifier(n_estimators=2000,max_depth=4,learning_rate=.01,n_jobs=-1,subsample=.5)\n",
    "-cross_val_score(xgbc,X_count,df.Class,scoring='neg_log_loss',n_jobs=1)"
   ]
  },
  {
   "cell_type": "code",
   "execution_count": 28,
   "metadata": {},
   "outputs": [
    {
     "name": "stdout",
     "output_type": "stream",
     "text": [
      "done transforming data\n"
     ]
    },
    {
     "data": {
      "text/plain": [
       "array([ 2.57763235,  2.48680866,  2.36680781])"
      ]
     },
     "execution_count": 28,
     "metadata": {},
     "output_type": "execute_result"
    }
   ],
   "source": [
    "from sklearn.ensemble import RandomForestClassifier\n",
    "\n",
    "print('done transforming data')\n",
    "rf = RandomForestClassifier(n_estimators=2000,n_jobs=-1,oob_score=True,)\n",
    "-cross_val_score(rf,X_count,df.Class,scoring='neg_log_loss',n_jobs=1)"
   ]
  },
  {
   "cell_type": "code",
   "execution_count": 29,
   "metadata": {},
   "outputs": [
    {
     "name": "stdout",
     "output_type": "stream",
     "text": [
      "done transforming data\n"
     ]
    },
    {
     "data": {
      "text/plain": [
       "array([ 2.56689829,  2.61658775,  2.47231294])"
      ]
     },
     "execution_count": 29,
     "metadata": {},
     "output_type": "execute_result"
    }
   ],
   "source": [
    "from sklearn.ensemble import RandomForestClassifier\n",
    "\n",
    "print('done transforming data')\n",
    "rf = RandomForestClassifier(n_estimators=2000,n_jobs=-1,oob_score=True,class_weight='balanced')\n",
    "-cross_val_score(rf,X_count,df.Class,scoring='neg_log_loss',n_jobs=1)"
   ]
  },
  {
   "cell_type": "code",
   "execution_count": 30,
   "metadata": {},
   "outputs": [
    {
     "name": "stdout",
     "output_type": "stream",
     "text": [
      "done transforming data\n"
     ]
    },
    {
     "data": {
      "text/plain": [
       "array([ 2.831808  ,  3.03867834,  2.73497659])"
      ]
     },
     "execution_count": 30,
     "metadata": {},
     "output_type": "execute_result"
    }
   ],
   "source": [
    "from sklearn.ensemble import RandomForestClassifier\n",
    "\n",
    "print('done transforming data')\n",
    "rf = RandomForestClassifier(n_estimators=500,n_jobs=-1,oob_score=True,class_weight='balanced')\n",
    "-cross_val_score(rf,X_count,df.Class,scoring='neg_log_loss',n_jobs=1)"
   ]
  },
  {
   "cell_type": "code",
   "execution_count": 31,
   "metadata": {},
   "outputs": [
    {
     "name": "stdout",
     "output_type": "stream",
     "text": [
      "done transforming data\n"
     ]
    },
    {
     "data": {
      "text/plain": [
       "array([ 2.32510208,  2.33808567,  2.34031354])"
      ]
     },
     "execution_count": 31,
     "metadata": {},
     "output_type": "execute_result"
    }
   ],
   "source": [
    "from sklearn.ensemble import RandomForestClassifier\n",
    "\n",
    "print('done transforming data')\n",
    "rf = RandomForestClassifier(n_estimators=5000,n_jobs=-1)\n",
    "-cross_val_score(rf,X_count,df.Class,scoring='neg_log_loss',n_jobs=1)"
   ]
  },
  {
   "cell_type": "code",
   "execution_count": 33,
   "metadata": {},
   "outputs": [
    {
     "ename": "KeyboardInterrupt",
     "evalue": "",
     "output_type": "error",
     "traceback": [
      "\u001b[0;31m---------------------------------------------------------------------------\u001b[0m",
      "\u001b[0;31mKeyboardInterrupt\u001b[0m                         Traceback (most recent call last)",
      "\u001b[0;32m<ipython-input-33-41968e1d23a5>\u001b[0m in \u001b[0;36m<module>\u001b[0;34m()\u001b[0m\n\u001b[1;32m      1\u001b[0m \u001b[0mxgbc\u001b[0m \u001b[0;34m=\u001b[0m \u001b[0mXGBClassifier\u001b[0m\u001b[0;34m(\u001b[0m\u001b[0mn_estimators\u001b[0m\u001b[0;34m=\u001b[0m\u001b[0;36m1000\u001b[0m\u001b[0;34m,\u001b[0m\u001b[0mmax_depth\u001b[0m\u001b[0;34m=\u001b[0m\u001b[0;36m4\u001b[0m\u001b[0;34m,\u001b[0m\u001b[0mlearning_rate\u001b[0m\u001b[0;34m=\u001b[0m\u001b[0;36m.1\u001b[0m\u001b[0;34m,\u001b[0m\u001b[0mn_jobs\u001b[0m\u001b[0;34m=\u001b[0m\u001b[0;34m-\u001b[0m\u001b[0;36m1\u001b[0m\u001b[0;34m,\u001b[0m\u001b[0msubsample\u001b[0m\u001b[0;34m=\u001b[0m\u001b[0;36m.5\u001b[0m\u001b[0;34m)\u001b[0m\u001b[0;34m\u001b[0m\u001b[0m\n\u001b[0;32m----> 2\u001b[0;31m \u001b[0mprint\u001b[0m\u001b[0;34m(\u001b[0m\u001b[0;34m-\u001b[0m\u001b[0mcross_val_score\u001b[0m\u001b[0;34m(\u001b[0m\u001b[0mxgbc\u001b[0m\u001b[0;34m,\u001b[0m\u001b[0mX_count\u001b[0m\u001b[0;34m,\u001b[0m\u001b[0mdf\u001b[0m\u001b[0;34m.\u001b[0m\u001b[0mClass\u001b[0m\u001b[0;34m,\u001b[0m\u001b[0mscoring\u001b[0m\u001b[0;34m=\u001b[0m\u001b[0;34m'neg_log_loss'\u001b[0m\u001b[0;34m,\u001b[0m\u001b[0mn_jobs\u001b[0m\u001b[0;34m=\u001b[0m\u001b[0;36m1\u001b[0m\u001b[0;34m)\u001b[0m\u001b[0;34m.\u001b[0m\u001b[0mmean\u001b[0m\u001b[0;34m(\u001b[0m\u001b[0;34m)\u001b[0m\u001b[0;34m)\u001b[0m\u001b[0;34m\u001b[0m\u001b[0m\n\u001b[0m\u001b[1;32m      3\u001b[0m \u001b[0mxgbc\u001b[0m \u001b[0;34m=\u001b[0m \u001b[0mXGBClassifier\u001b[0m\u001b[0;34m(\u001b[0m\u001b[0mn_estimators\u001b[0m\u001b[0;34m=\u001b[0m\u001b[0;36m1000\u001b[0m\u001b[0;34m,\u001b[0m\u001b[0mmax_depth\u001b[0m\u001b[0;34m=\u001b[0m\u001b[0;36m4\u001b[0m\u001b[0;34m,\u001b[0m\u001b[0mlearning_rate\u001b[0m\u001b[0;34m=\u001b[0m\u001b[0;36m.1\u001b[0m\u001b[0;34m,\u001b[0m\u001b[0mn_jobs\u001b[0m\u001b[0;34m=\u001b[0m\u001b[0;34m-\u001b[0m\u001b[0;36m1\u001b[0m\u001b[0;34m,\u001b[0m\u001b[0msubsample\u001b[0m\u001b[0;34m=\u001b[0m\u001b[0;36m.25\u001b[0m\u001b[0;34m)\u001b[0m\u001b[0;34m\u001b[0m\u001b[0m\n\u001b[1;32m      4\u001b[0m \u001b[0mprint\u001b[0m\u001b[0;34m(\u001b[0m\u001b[0;34m-\u001b[0m\u001b[0mcross_val_score\u001b[0m\u001b[0;34m(\u001b[0m\u001b[0mxgbc\u001b[0m\u001b[0;34m,\u001b[0m\u001b[0mX_count\u001b[0m\u001b[0;34m,\u001b[0m\u001b[0mdf\u001b[0m\u001b[0;34m.\u001b[0m\u001b[0mClass\u001b[0m\u001b[0;34m,\u001b[0m\u001b[0mscoring\u001b[0m\u001b[0;34m=\u001b[0m\u001b[0;34m'neg_log_loss'\u001b[0m\u001b[0;34m,\u001b[0m\u001b[0mn_jobs\u001b[0m\u001b[0;34m=\u001b[0m\u001b[0;36m1\u001b[0m\u001b[0;34m)\u001b[0m\u001b[0;34m.\u001b[0m\u001b[0mmean\u001b[0m\u001b[0;34m(\u001b[0m\u001b[0;34m)\u001b[0m\u001b[0;34m)\u001b[0m\u001b[0;34m\u001b[0m\u001b[0m\n\u001b[1;32m      5\u001b[0m \u001b[0mxgbc\u001b[0m \u001b[0;34m=\u001b[0m \u001b[0mXGBClassifier\u001b[0m\u001b[0;34m(\u001b[0m\u001b[0mn_estimators\u001b[0m\u001b[0;34m=\u001b[0m\u001b[0;36m2000\u001b[0m\u001b[0;34m,\u001b[0m\u001b[0mmax_depth\u001b[0m\u001b[0;34m=\u001b[0m\u001b[0;36m2\u001b[0m\u001b[0;34m,\u001b[0m\u001b[0mlearning_rate\u001b[0m\u001b[0;34m=\u001b[0m\u001b[0;36m.01\u001b[0m\u001b[0;34m,\u001b[0m\u001b[0mn_jobs\u001b[0m\u001b[0;34m=\u001b[0m\u001b[0;34m-\u001b[0m\u001b[0;36m1\u001b[0m\u001b[0;34m,\u001b[0m\u001b[0msubsample\u001b[0m\u001b[0;34m=\u001b[0m\u001b[0;36m.5\u001b[0m\u001b[0;34m)\u001b[0m\u001b[0;34m\u001b[0m\u001b[0m\n",
      "\u001b[0;32m/home/ec2-user/yes/lib/python3.6/site-packages/sklearn/model_selection/_validation.py\u001b[0m in \u001b[0;36mcross_val_score\u001b[0;34m(estimator, X, y, groups, scoring, cv, n_jobs, verbose, fit_params, pre_dispatch)\u001b[0m\n\u001b[1;32m    138\u001b[0m                                               \u001b[0mtrain\u001b[0m\u001b[0;34m,\u001b[0m \u001b[0mtest\u001b[0m\u001b[0;34m,\u001b[0m \u001b[0mverbose\u001b[0m\u001b[0;34m,\u001b[0m \u001b[0;32mNone\u001b[0m\u001b[0;34m,\u001b[0m\u001b[0;34m\u001b[0m\u001b[0m\n\u001b[1;32m    139\u001b[0m                                               fit_params)\n\u001b[0;32m--> 140\u001b[0;31m                       for train, test in cv_iter)\n\u001b[0m\u001b[1;32m    141\u001b[0m     \u001b[0;32mreturn\u001b[0m \u001b[0mnp\u001b[0m\u001b[0;34m.\u001b[0m\u001b[0marray\u001b[0m\u001b[0;34m(\u001b[0m\u001b[0mscores\u001b[0m\u001b[0;34m)\u001b[0m\u001b[0;34m[\u001b[0m\u001b[0;34m:\u001b[0m\u001b[0;34m,\u001b[0m \u001b[0;36m0\u001b[0m\u001b[0;34m]\u001b[0m\u001b[0;34m\u001b[0m\u001b[0m\n\u001b[1;32m    142\u001b[0m \u001b[0;34m\u001b[0m\u001b[0m\n",
      "\u001b[0;32m/home/ec2-user/yes/lib/python3.6/site-packages/sklearn/externals/joblib/parallel.py\u001b[0m in \u001b[0;36m__call__\u001b[0;34m(self, iterable)\u001b[0m\n\u001b[1;32m    756\u001b[0m             \u001b[0;31m# was dispatched. In particular this covers the edge\u001b[0m\u001b[0;34m\u001b[0m\u001b[0;34m\u001b[0m\u001b[0m\n\u001b[1;32m    757\u001b[0m             \u001b[0;31m# case of Parallel used with an exhausted iterator.\u001b[0m\u001b[0;34m\u001b[0m\u001b[0;34m\u001b[0m\u001b[0m\n\u001b[0;32m--> 758\u001b[0;31m             \u001b[0;32mwhile\u001b[0m \u001b[0mself\u001b[0m\u001b[0;34m.\u001b[0m\u001b[0mdispatch_one_batch\u001b[0m\u001b[0;34m(\u001b[0m\u001b[0miterator\u001b[0m\u001b[0;34m)\u001b[0m\u001b[0;34m:\u001b[0m\u001b[0;34m\u001b[0m\u001b[0m\n\u001b[0m\u001b[1;32m    759\u001b[0m                 \u001b[0mself\u001b[0m\u001b[0;34m.\u001b[0m\u001b[0m_iterating\u001b[0m \u001b[0;34m=\u001b[0m \u001b[0;32mTrue\u001b[0m\u001b[0;34m\u001b[0m\u001b[0m\n\u001b[1;32m    760\u001b[0m             \u001b[0;32melse\u001b[0m\u001b[0;34m:\u001b[0m\u001b[0;34m\u001b[0m\u001b[0m\n",
      "\u001b[0;32m/home/ec2-user/yes/lib/python3.6/site-packages/sklearn/externals/joblib/parallel.py\u001b[0m in \u001b[0;36mdispatch_one_batch\u001b[0;34m(self, iterator)\u001b[0m\n\u001b[1;32m    606\u001b[0m                 \u001b[0;32mreturn\u001b[0m \u001b[0;32mFalse\u001b[0m\u001b[0;34m\u001b[0m\u001b[0m\n\u001b[1;32m    607\u001b[0m             \u001b[0;32melse\u001b[0m\u001b[0;34m:\u001b[0m\u001b[0;34m\u001b[0m\u001b[0m\n\u001b[0;32m--> 608\u001b[0;31m                 \u001b[0mself\u001b[0m\u001b[0;34m.\u001b[0m\u001b[0m_dispatch\u001b[0m\u001b[0;34m(\u001b[0m\u001b[0mtasks\u001b[0m\u001b[0;34m)\u001b[0m\u001b[0;34m\u001b[0m\u001b[0m\n\u001b[0m\u001b[1;32m    609\u001b[0m                 \u001b[0;32mreturn\u001b[0m \u001b[0;32mTrue\u001b[0m\u001b[0;34m\u001b[0m\u001b[0m\n\u001b[1;32m    610\u001b[0m \u001b[0;34m\u001b[0m\u001b[0m\n",
      "\u001b[0;32m/home/ec2-user/yes/lib/python3.6/site-packages/sklearn/externals/joblib/parallel.py\u001b[0m in \u001b[0;36m_dispatch\u001b[0;34m(self, batch)\u001b[0m\n\u001b[1;32m    569\u001b[0m         \u001b[0mdispatch_timestamp\u001b[0m \u001b[0;34m=\u001b[0m \u001b[0mtime\u001b[0m\u001b[0;34m.\u001b[0m\u001b[0mtime\u001b[0m\u001b[0;34m(\u001b[0m\u001b[0;34m)\u001b[0m\u001b[0;34m\u001b[0m\u001b[0m\n\u001b[1;32m    570\u001b[0m         \u001b[0mcb\u001b[0m \u001b[0;34m=\u001b[0m \u001b[0mBatchCompletionCallBack\u001b[0m\u001b[0;34m(\u001b[0m\u001b[0mdispatch_timestamp\u001b[0m\u001b[0;34m,\u001b[0m \u001b[0mlen\u001b[0m\u001b[0;34m(\u001b[0m\u001b[0mbatch\u001b[0m\u001b[0;34m)\u001b[0m\u001b[0;34m,\u001b[0m \u001b[0mself\u001b[0m\u001b[0;34m)\u001b[0m\u001b[0;34m\u001b[0m\u001b[0m\n\u001b[0;32m--> 571\u001b[0;31m         \u001b[0mjob\u001b[0m \u001b[0;34m=\u001b[0m \u001b[0mself\u001b[0m\u001b[0;34m.\u001b[0m\u001b[0m_backend\u001b[0m\u001b[0;34m.\u001b[0m\u001b[0mapply_async\u001b[0m\u001b[0;34m(\u001b[0m\u001b[0mbatch\u001b[0m\u001b[0;34m,\u001b[0m \u001b[0mcallback\u001b[0m\u001b[0;34m=\u001b[0m\u001b[0mcb\u001b[0m\u001b[0;34m)\u001b[0m\u001b[0;34m\u001b[0m\u001b[0m\n\u001b[0m\u001b[1;32m    572\u001b[0m         \u001b[0mself\u001b[0m\u001b[0;34m.\u001b[0m\u001b[0m_jobs\u001b[0m\u001b[0;34m.\u001b[0m\u001b[0mappend\u001b[0m\u001b[0;34m(\u001b[0m\u001b[0mjob\u001b[0m\u001b[0;34m)\u001b[0m\u001b[0;34m\u001b[0m\u001b[0m\n\u001b[1;32m    573\u001b[0m \u001b[0;34m\u001b[0m\u001b[0m\n",
      "\u001b[0;32m/home/ec2-user/yes/lib/python3.6/site-packages/sklearn/externals/joblib/_parallel_backends.py\u001b[0m in \u001b[0;36mapply_async\u001b[0;34m(self, func, callback)\u001b[0m\n\u001b[1;32m    107\u001b[0m     \u001b[0;32mdef\u001b[0m \u001b[0mapply_async\u001b[0m\u001b[0;34m(\u001b[0m\u001b[0mself\u001b[0m\u001b[0;34m,\u001b[0m \u001b[0mfunc\u001b[0m\u001b[0;34m,\u001b[0m \u001b[0mcallback\u001b[0m\u001b[0;34m=\u001b[0m\u001b[0;32mNone\u001b[0m\u001b[0;34m)\u001b[0m\u001b[0;34m:\u001b[0m\u001b[0;34m\u001b[0m\u001b[0m\n\u001b[1;32m    108\u001b[0m         \u001b[0;34m\"\"\"Schedule a func to be run\"\"\"\u001b[0m\u001b[0;34m\u001b[0m\u001b[0m\n\u001b[0;32m--> 109\u001b[0;31m         \u001b[0mresult\u001b[0m \u001b[0;34m=\u001b[0m \u001b[0mImmediateResult\u001b[0m\u001b[0;34m(\u001b[0m\u001b[0mfunc\u001b[0m\u001b[0;34m)\u001b[0m\u001b[0;34m\u001b[0m\u001b[0m\n\u001b[0m\u001b[1;32m    110\u001b[0m         \u001b[0;32mif\u001b[0m \u001b[0mcallback\u001b[0m\u001b[0;34m:\u001b[0m\u001b[0;34m\u001b[0m\u001b[0m\n\u001b[1;32m    111\u001b[0m             \u001b[0mcallback\u001b[0m\u001b[0;34m(\u001b[0m\u001b[0mresult\u001b[0m\u001b[0;34m)\u001b[0m\u001b[0;34m\u001b[0m\u001b[0m\n",
      "\u001b[0;32m/home/ec2-user/yes/lib/python3.6/site-packages/sklearn/externals/joblib/_parallel_backends.py\u001b[0m in \u001b[0;36m__init__\u001b[0;34m(self, batch)\u001b[0m\n\u001b[1;32m    324\u001b[0m         \u001b[0;31m# Don't delay the application, to avoid keeping the input\u001b[0m\u001b[0;34m\u001b[0m\u001b[0;34m\u001b[0m\u001b[0m\n\u001b[1;32m    325\u001b[0m         \u001b[0;31m# arguments in memory\u001b[0m\u001b[0;34m\u001b[0m\u001b[0;34m\u001b[0m\u001b[0m\n\u001b[0;32m--> 326\u001b[0;31m         \u001b[0mself\u001b[0m\u001b[0;34m.\u001b[0m\u001b[0mresults\u001b[0m \u001b[0;34m=\u001b[0m \u001b[0mbatch\u001b[0m\u001b[0;34m(\u001b[0m\u001b[0;34m)\u001b[0m\u001b[0;34m\u001b[0m\u001b[0m\n\u001b[0m\u001b[1;32m    327\u001b[0m \u001b[0;34m\u001b[0m\u001b[0m\n\u001b[1;32m    328\u001b[0m     \u001b[0;32mdef\u001b[0m \u001b[0mget\u001b[0m\u001b[0;34m(\u001b[0m\u001b[0mself\u001b[0m\u001b[0;34m)\u001b[0m\u001b[0;34m:\u001b[0m\u001b[0;34m\u001b[0m\u001b[0m\n",
      "\u001b[0;32m/home/ec2-user/yes/lib/python3.6/site-packages/sklearn/externals/joblib/parallel.py\u001b[0m in \u001b[0;36m__call__\u001b[0;34m(self)\u001b[0m\n\u001b[1;32m    129\u001b[0m \u001b[0;34m\u001b[0m\u001b[0m\n\u001b[1;32m    130\u001b[0m     \u001b[0;32mdef\u001b[0m \u001b[0m__call__\u001b[0m\u001b[0;34m(\u001b[0m\u001b[0mself\u001b[0m\u001b[0;34m)\u001b[0m\u001b[0;34m:\u001b[0m\u001b[0;34m\u001b[0m\u001b[0m\n\u001b[0;32m--> 131\u001b[0;31m         \u001b[0;32mreturn\u001b[0m \u001b[0;34m[\u001b[0m\u001b[0mfunc\u001b[0m\u001b[0;34m(\u001b[0m\u001b[0;34m*\u001b[0m\u001b[0margs\u001b[0m\u001b[0;34m,\u001b[0m \u001b[0;34m**\u001b[0m\u001b[0mkwargs\u001b[0m\u001b[0;34m)\u001b[0m \u001b[0;32mfor\u001b[0m \u001b[0mfunc\u001b[0m\u001b[0;34m,\u001b[0m \u001b[0margs\u001b[0m\u001b[0;34m,\u001b[0m \u001b[0mkwargs\u001b[0m \u001b[0;32min\u001b[0m \u001b[0mself\u001b[0m\u001b[0;34m.\u001b[0m\u001b[0mitems\u001b[0m\u001b[0;34m]\u001b[0m\u001b[0;34m\u001b[0m\u001b[0m\n\u001b[0m\u001b[1;32m    132\u001b[0m \u001b[0;34m\u001b[0m\u001b[0m\n\u001b[1;32m    133\u001b[0m     \u001b[0;32mdef\u001b[0m \u001b[0m__len__\u001b[0m\u001b[0;34m(\u001b[0m\u001b[0mself\u001b[0m\u001b[0;34m)\u001b[0m\u001b[0;34m:\u001b[0m\u001b[0;34m\u001b[0m\u001b[0m\n",
      "\u001b[0;32m/home/ec2-user/yes/lib/python3.6/site-packages/sklearn/externals/joblib/parallel.py\u001b[0m in \u001b[0;36m<listcomp>\u001b[0;34m(.0)\u001b[0m\n\u001b[1;32m    129\u001b[0m \u001b[0;34m\u001b[0m\u001b[0m\n\u001b[1;32m    130\u001b[0m     \u001b[0;32mdef\u001b[0m \u001b[0m__call__\u001b[0m\u001b[0;34m(\u001b[0m\u001b[0mself\u001b[0m\u001b[0;34m)\u001b[0m\u001b[0;34m:\u001b[0m\u001b[0;34m\u001b[0m\u001b[0m\n\u001b[0;32m--> 131\u001b[0;31m         \u001b[0;32mreturn\u001b[0m \u001b[0;34m[\u001b[0m\u001b[0mfunc\u001b[0m\u001b[0;34m(\u001b[0m\u001b[0;34m*\u001b[0m\u001b[0margs\u001b[0m\u001b[0;34m,\u001b[0m \u001b[0;34m**\u001b[0m\u001b[0mkwargs\u001b[0m\u001b[0;34m)\u001b[0m \u001b[0;32mfor\u001b[0m \u001b[0mfunc\u001b[0m\u001b[0;34m,\u001b[0m \u001b[0margs\u001b[0m\u001b[0;34m,\u001b[0m \u001b[0mkwargs\u001b[0m \u001b[0;32min\u001b[0m \u001b[0mself\u001b[0m\u001b[0;34m.\u001b[0m\u001b[0mitems\u001b[0m\u001b[0;34m]\u001b[0m\u001b[0;34m\u001b[0m\u001b[0m\n\u001b[0m\u001b[1;32m    132\u001b[0m \u001b[0;34m\u001b[0m\u001b[0m\n\u001b[1;32m    133\u001b[0m     \u001b[0;32mdef\u001b[0m \u001b[0m__len__\u001b[0m\u001b[0;34m(\u001b[0m\u001b[0mself\u001b[0m\u001b[0;34m)\u001b[0m\u001b[0;34m:\u001b[0m\u001b[0;34m\u001b[0m\u001b[0m\n",
      "\u001b[0;32m/home/ec2-user/yes/lib/python3.6/site-packages/sklearn/model_selection/_validation.py\u001b[0m in \u001b[0;36m_fit_and_score\u001b[0;34m(estimator, X, y, scorer, train, test, verbose, parameters, fit_params, return_train_score, return_parameters, return_n_test_samples, return_times, error_score)\u001b[0m\n\u001b[1;32m    236\u001b[0m             \u001b[0mestimator\u001b[0m\u001b[0;34m.\u001b[0m\u001b[0mfit\u001b[0m\u001b[0;34m(\u001b[0m\u001b[0mX_train\u001b[0m\u001b[0;34m,\u001b[0m \u001b[0;34m**\u001b[0m\u001b[0mfit_params\u001b[0m\u001b[0;34m)\u001b[0m\u001b[0;34m\u001b[0m\u001b[0m\n\u001b[1;32m    237\u001b[0m         \u001b[0;32melse\u001b[0m\u001b[0;34m:\u001b[0m\u001b[0;34m\u001b[0m\u001b[0m\n\u001b[0;32m--> 238\u001b[0;31m             \u001b[0mestimator\u001b[0m\u001b[0;34m.\u001b[0m\u001b[0mfit\u001b[0m\u001b[0;34m(\u001b[0m\u001b[0mX_train\u001b[0m\u001b[0;34m,\u001b[0m \u001b[0my_train\u001b[0m\u001b[0;34m,\u001b[0m \u001b[0;34m**\u001b[0m\u001b[0mfit_params\u001b[0m\u001b[0;34m)\u001b[0m\u001b[0;34m\u001b[0m\u001b[0m\n\u001b[0m\u001b[1;32m    239\u001b[0m \u001b[0;34m\u001b[0m\u001b[0m\n\u001b[1;32m    240\u001b[0m     \u001b[0;32mexcept\u001b[0m \u001b[0mException\u001b[0m \u001b[0;32mas\u001b[0m \u001b[0me\u001b[0m\u001b[0;34m:\u001b[0m\u001b[0;34m\u001b[0m\u001b[0m\n",
      "\u001b[0;32m/home/ec2-user/yes/lib/python3.6/site-packages/xgboost-0.6-py3.6.egg/xgboost/sklearn.py\u001b[0m in \u001b[0;36mfit\u001b[0;34m(self, X, y, sample_weight, eval_set, eval_metric, early_stopping_rounds, verbose)\u001b[0m\n\u001b[1;32m    501\u001b[0m                               \u001b[0mearly_stopping_rounds\u001b[0m\u001b[0;34m=\u001b[0m\u001b[0mearly_stopping_rounds\u001b[0m\u001b[0;34m,\u001b[0m\u001b[0;34m\u001b[0m\u001b[0m\n\u001b[1;32m    502\u001b[0m                               \u001b[0mevals_result\u001b[0m\u001b[0;34m=\u001b[0m\u001b[0mevals_result\u001b[0m\u001b[0;34m,\u001b[0m \u001b[0mobj\u001b[0m\u001b[0;34m=\u001b[0m\u001b[0mobj\u001b[0m\u001b[0;34m,\u001b[0m \u001b[0mfeval\u001b[0m\u001b[0;34m=\u001b[0m\u001b[0mfeval\u001b[0m\u001b[0;34m,\u001b[0m\u001b[0;34m\u001b[0m\u001b[0m\n\u001b[0;32m--> 503\u001b[0;31m                               verbose_eval=verbose)\n\u001b[0m\u001b[1;32m    504\u001b[0m \u001b[0;34m\u001b[0m\u001b[0m\n\u001b[1;32m    505\u001b[0m         \u001b[0mself\u001b[0m\u001b[0;34m.\u001b[0m\u001b[0mobjective\u001b[0m \u001b[0;34m=\u001b[0m \u001b[0mxgb_options\u001b[0m\u001b[0;34m[\u001b[0m\u001b[0;34m\"objective\"\u001b[0m\u001b[0;34m]\u001b[0m\u001b[0;34m\u001b[0m\u001b[0m\n",
      "\u001b[0;32m/home/ec2-user/yes/lib/python3.6/site-packages/xgboost-0.6-py3.6.egg/xgboost/training.py\u001b[0m in \u001b[0;36mtrain\u001b[0;34m(params, dtrain, num_boost_round, evals, obj, feval, maximize, early_stopping_rounds, evals_result, verbose_eval, xgb_model, callbacks, learning_rates)\u001b[0m\n\u001b[1;32m    202\u001b[0m                            \u001b[0mevals\u001b[0m\u001b[0;34m=\u001b[0m\u001b[0mevals\u001b[0m\u001b[0;34m,\u001b[0m\u001b[0;34m\u001b[0m\u001b[0m\n\u001b[1;32m    203\u001b[0m                            \u001b[0mobj\u001b[0m\u001b[0;34m=\u001b[0m\u001b[0mobj\u001b[0m\u001b[0;34m,\u001b[0m \u001b[0mfeval\u001b[0m\u001b[0;34m=\u001b[0m\u001b[0mfeval\u001b[0m\u001b[0;34m,\u001b[0m\u001b[0;34m\u001b[0m\u001b[0m\n\u001b[0;32m--> 204\u001b[0;31m                            xgb_model=xgb_model, callbacks=callbacks)\n\u001b[0m\u001b[1;32m    205\u001b[0m \u001b[0;34m\u001b[0m\u001b[0m\n\u001b[1;32m    206\u001b[0m \u001b[0;34m\u001b[0m\u001b[0m\n",
      "\u001b[0;32m/home/ec2-user/yes/lib/python3.6/site-packages/xgboost-0.6-py3.6.egg/xgboost/training.py\u001b[0m in \u001b[0;36m_train_internal\u001b[0;34m(params, dtrain, num_boost_round, evals, obj, feval, xgb_model, callbacks)\u001b[0m\n\u001b[1;32m     72\u001b[0m         \u001b[0;31m# Skip the first update if it is a recovery step.\u001b[0m\u001b[0;34m\u001b[0m\u001b[0;34m\u001b[0m\u001b[0m\n\u001b[1;32m     73\u001b[0m         \u001b[0;32mif\u001b[0m \u001b[0mversion\u001b[0m \u001b[0;34m%\u001b[0m \u001b[0;36m2\u001b[0m \u001b[0;34m==\u001b[0m \u001b[0;36m0\u001b[0m\u001b[0;34m:\u001b[0m\u001b[0;34m\u001b[0m\u001b[0m\n\u001b[0;32m---> 74\u001b[0;31m             \u001b[0mbst\u001b[0m\u001b[0;34m.\u001b[0m\u001b[0mupdate\u001b[0m\u001b[0;34m(\u001b[0m\u001b[0mdtrain\u001b[0m\u001b[0;34m,\u001b[0m \u001b[0mi\u001b[0m\u001b[0;34m,\u001b[0m \u001b[0mobj\u001b[0m\u001b[0;34m)\u001b[0m\u001b[0;34m\u001b[0m\u001b[0m\n\u001b[0m\u001b[1;32m     75\u001b[0m             \u001b[0mbst\u001b[0m\u001b[0;34m.\u001b[0m\u001b[0msave_rabit_checkpoint\u001b[0m\u001b[0;34m(\u001b[0m\u001b[0;34m)\u001b[0m\u001b[0;34m\u001b[0m\u001b[0m\n\u001b[1;32m     76\u001b[0m             \u001b[0mversion\u001b[0m \u001b[0;34m+=\u001b[0m \u001b[0;36m1\u001b[0m\u001b[0;34m\u001b[0m\u001b[0m\n",
      "\u001b[0;32m/home/ec2-user/yes/lib/python3.6/site-packages/xgboost-0.6-py3.6.egg/xgboost/core.py\u001b[0m in \u001b[0;36mupdate\u001b[0;34m(self, dtrain, iteration, fobj)\u001b[0m\n\u001b[1;32m    884\u001b[0m         \u001b[0;32mif\u001b[0m \u001b[0mfobj\u001b[0m \u001b[0;32mis\u001b[0m \u001b[0;32mNone\u001b[0m\u001b[0;34m:\u001b[0m\u001b[0;34m\u001b[0m\u001b[0m\n\u001b[1;32m    885\u001b[0m             _check_call(_LIB.XGBoosterUpdateOneIter(self.handle, ctypes.c_int(iteration),\n\u001b[0;32m--> 886\u001b[0;31m                                                     dtrain.handle))\n\u001b[0m\u001b[1;32m    887\u001b[0m         \u001b[0;32melse\u001b[0m\u001b[0;34m:\u001b[0m\u001b[0;34m\u001b[0m\u001b[0m\n\u001b[1;32m    888\u001b[0m             \u001b[0mpred\u001b[0m \u001b[0;34m=\u001b[0m \u001b[0mself\u001b[0m\u001b[0;34m.\u001b[0m\u001b[0mpredict\u001b[0m\u001b[0;34m(\u001b[0m\u001b[0mdtrain\u001b[0m\u001b[0;34m)\u001b[0m\u001b[0;34m\u001b[0m\u001b[0m\n",
      "\u001b[0;31mKeyboardInterrupt\u001b[0m: "
     ]
    }
   ],
   "source": [
    "xgbc = XGBClassifier(n_estimators=1000,max_depth=4,learning_rate=.1,n_jobs=-1,subsample=.5)\n",
    "print(-cross_val_score(xgbc,X_count,df.Class,scoring='neg_log_loss',n_jobs=1).mean())\n",
    "xgbc = XGBClassifier(n_estimators=1000,max_depth=4,learning_rate=.1,n_jobs=-1,subsample=.25)\n",
    "print(-cross_val_score(xgbc,X_count,df.Class,scoring='neg_log_loss',n_jobs=1).mean())\n",
    "xgbc = XGBClassifier(n_estimators=2000,max_depth=2,learning_rate=.01,n_jobs=-1,subsample=.5)\n",
    "print(-cross_val_score(xgbc,X_count,df.Class,scoring='neg_log_loss',n_jobs=1).mean())"
   ]
  },
  {
   "cell_type": "code",
   "execution_count": null,
   "metadata": {
    "collapsed": true
   },
   "outputs": [],
   "source": []
  }
 ],
 "metadata": {
  "kernelspec": {
   "display_name": "Python 3",
   "language": "python",
   "name": "python3"
  },
  "language_info": {
   "codemirror_mode": {
    "name": "ipython",
    "version": 3
   },
   "file_extension": ".py",
   "mimetype": "text/x-python",
   "name": "python",
   "nbconvert_exporter": "python",
   "pygments_lexer": "ipython3",
   "version": "3.6.1"
  }
 },
 "nbformat": 4,
 "nbformat_minor": 2
}
