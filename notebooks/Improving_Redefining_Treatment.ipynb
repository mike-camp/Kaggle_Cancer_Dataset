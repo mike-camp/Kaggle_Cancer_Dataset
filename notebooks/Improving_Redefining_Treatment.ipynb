{
 "cells": [
  {
   "cell_type": "code",
   "execution_count": 1,
   "metadata": {
    "collapsed": true
   },
   "outputs": [],
   "source": [
    "import numpy as np\n",
    "import pandas as pd\n",
    "import matplotlib.pyplot as plt\n",
    "from sklearn.model_selection import cross_val_score\n",
    "from sklearn.feature_extraction.text import TfidfVectorizer\n",
    "from sklearn.linear_model import LogisticRegressionCV\n",
    "from sklearn.svm import SVC\n",
    "%matplotlib inline\n",
    "import src.utils"
   ]
  },
  {
   "cell_type": "code",
   "execution_count": 2,
   "metadata": {
    "scrolled": true
   },
   "outputs": [],
   "source": [
    "df = src.utils.gene_variation_dataframe()"
   ]
  },
  {
   "cell_type": "code",
   "execution_count": 3,
   "metadata": {
    "collapsed": true
   },
   "outputs": [],
   "source": [
    "from xgboost import XGBClassifier"
   ]
  },
  {
   "cell_type": "code",
   "execution_count": 4,
   "metadata": {
    "collapsed": true
   },
   "outputs": [],
   "source": [
    "xgb = XGBClassifier(n_estimators=1000,learning_rate=.01,\n",
    "                    objective='multi:softprob',num_classes=9,\n",
    "                   subsample=.5,colsample_bytree=.5,max_depth=3,\n",
    "                   n_jobs=-1)\n",
    "from sklearn.model_selection import cross_val_score\n",
    "from sklearn.utils import shuffle"
   ]
  },
  {
   "cell_type": "code",
   "execution_count": 6,
   "metadata": {},
   "outputs": [
    {
     "name": "stdout",
     "output_type": "stream",
     "text": [
      "xgb : 0.925\n"
     ]
    }
   ],
   "source": [
    "df_train = pd.read_csv('../data/training_variants.csv')\n",
    "X_train = df[:df_train.shape[0]]\n",
    "\n",
    "x,y = shuffle(X_train,df_train.Class)\n",
    "cvs = -cross_val_score(xgb, x, y, scoring='neg_log_loss',n_jobs=-1,cv=5).mean()\n",
    "print('xgb : {:.3f}'.format(cvs))"
   ]
  },
  {
   "cell_type": "code",
   "execution_count": null,
   "metadata": {},
   "outputs": [],
   "source": [
    "for lr in (.001,.005,.01,.05):\n",
    "    xgb = XGBClassifier(n_estimators=5000,learning_rate=lr,\n",
    "                    objective='multi:softprob',num_classes=9,\n",
    "                   subsample=.5,colsample_bytree=.5,max_depth=3,\n",
    "                       n_jobs=-1)\n",
    "    cvs = -cross_val_score(xgb, x, y, scoring='neg_log_loss',n_jobs=-1,cv=5)\n",
    "    print('xgb (lr={:.2f}) : {:.3f} +/- {:.3f}'.format(lr,cvs.mean(),cvs.std()))"
   ]
  },
  {
   "cell_type": "code",
   "execution_count": null,
   "metadata": {
    "collapsed": true
   },
   "outputs": [],
   "source": [
    "for depth in (2,3,4,5):\n",
    "    xgb = XGBClassifier(n_estimators=5000,learning_rate=lr,\n",
    "                    objective='multi:softprob',num_classes=9,\n",
    "                   subsample=.5,colsample_bytree=.5,max_depth=depth,\n",
    "                       n_jobs=-1)\n",
    "    cvs = -cross_val_score(xgb, x, y, scoring='neg_log_loss',n_jobs=-1,cv=5)\n",
    "    print('xgb (lr={:.2f}) : {:.3f} +/- {:.3f}'.format(lr,cvs.mean(),cvs.std()))"
   ]
  }
 ],
 "metadata": {
  "kernelspec": {
   "display_name": "Python 3",
   "language": "python",
   "name": "python3"
  },
  "language_info": {
   "codemirror_mode": {
    "name": "ipython",
    "version": 3
   },
   "file_extension": ".py",
   "mimetype": "text/x-python",
   "name": "python",
   "nbconvert_exporter": "python",
   "pygments_lexer": "ipython3",
   "version": "3.6.1"
  }
 },
 "nbformat": 4,
 "nbformat_minor": 2
}
