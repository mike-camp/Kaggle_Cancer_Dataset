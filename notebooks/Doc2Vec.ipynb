{
 "cells": [
  {
   "cell_type": "code",
   "execution_count": 5,
   "metadata": {},
   "outputs": [
    {
     "data": {
      "text/html": [
       "<div>\n",
       "<style>\n",
       "    .dataframe thead tr:only-child th {\n",
       "        text-align: right;\n",
       "    }\n",
       "\n",
       "    .dataframe thead th {\n",
       "        text-align: left;\n",
       "    }\n",
       "\n",
       "    .dataframe tbody tr th {\n",
       "        vertical-align: top;\n",
       "    }\n",
       "</style>\n",
       "<table border=\"1\" class=\"dataframe\">\n",
       "  <thead>\n",
       "    <tr style=\"text-align: right;\">\n",
       "      <th></th>\n",
       "      <th>Gene</th>\n",
       "      <th>Variation</th>\n",
       "      <th>Class</th>\n",
       "      <th>text</th>\n",
       "      <th>processed</th>\n",
       "    </tr>\n",
       "    <tr>\n",
       "      <th>ID</th>\n",
       "      <th></th>\n",
       "      <th></th>\n",
       "      <th></th>\n",
       "      <th></th>\n",
       "      <th></th>\n",
       "    </tr>\n",
       "  </thead>\n",
       "  <tbody>\n",
       "    <tr>\n",
       "      <th>0</th>\n",
       "      <td>FAM58A</td>\n",
       "      <td>Truncating Mutations</td>\n",
       "      <td>1</td>\n",
       "      <td>Cyclin-dependent kinases (CDKs) regulate a var...</td>\n",
       "      <td>[cyclin-depend, kinas, cdk, regul, varieti, fu...</td>\n",
       "    </tr>\n",
       "    <tr>\n",
       "      <th>1</th>\n",
       "      <td>CBL</td>\n",
       "      <td>W802*</td>\n",
       "      <td>2</td>\n",
       "      <td>Abstract Background  Non-small cell lung canc...</td>\n",
       "      <td>[abstract, background, non-smal, cell, lung, c...</td>\n",
       "    </tr>\n",
       "    <tr>\n",
       "      <th>2</th>\n",
       "      <td>CBL</td>\n",
       "      <td>Q249E</td>\n",
       "      <td>2</td>\n",
       "      <td>Abstract Background  Non-small cell lung canc...</td>\n",
       "      <td>[abstract, background, non-smal, cell, lung, c...</td>\n",
       "    </tr>\n",
       "    <tr>\n",
       "      <th>3</th>\n",
       "      <td>CBL</td>\n",
       "      <td>N454D</td>\n",
       "      <td>3</td>\n",
       "      <td>Recent evidence has demonstrated that acquired...</td>\n",
       "      <td>[recent, evid, demonstr, acquir, uniparent, di...</td>\n",
       "    </tr>\n",
       "    <tr>\n",
       "      <th>4</th>\n",
       "      <td>CBL</td>\n",
       "      <td>L399V</td>\n",
       "      <td>4</td>\n",
       "      <td>Oncogenic mutations in the monomeric Casitas B...</td>\n",
       "      <td>[oncogen, mutat, monomer, casita, b-lineag, ly...</td>\n",
       "    </tr>\n",
       "  </tbody>\n",
       "</table>\n",
       "</div>"
      ],
      "text/plain": [
       "      Gene             Variation  Class  \\\n",
       "ID                                        \n",
       "0   FAM58A  Truncating Mutations      1   \n",
       "1      CBL                 W802*      2   \n",
       "2      CBL                 Q249E      2   \n",
       "3      CBL                 N454D      3   \n",
       "4      CBL                 L399V      4   \n",
       "\n",
       "                                                 text  \\\n",
       "ID                                                      \n",
       "0   Cyclin-dependent kinases (CDKs) regulate a var...   \n",
       "1    Abstract Background  Non-small cell lung canc...   \n",
       "2    Abstract Background  Non-small cell lung canc...   \n",
       "3   Recent evidence has demonstrated that acquired...   \n",
       "4   Oncogenic mutations in the monomeric Casitas B...   \n",
       "\n",
       "                                            processed  \n",
       "ID                                                     \n",
       "0   [cyclin-depend, kinas, cdk, regul, varieti, fu...  \n",
       "1   [abstract, background, non-smal, cell, lung, c...  \n",
       "2   [abstract, background, non-smal, cell, lung, c...  \n",
       "3   [recent, evid, demonstr, acquir, uniparent, di...  \n",
       "4   [oncogen, mutat, monomer, casita, b-lineag, ly...  "
      ]
     },
     "execution_count": 5,
     "metadata": {},
     "output_type": "execute_result"
    }
   ],
   "source": [
    "import pandas as pd\n",
    "import numpy as np\n",
    "import matplotlib.pyplot as plt\n",
    "from gensim import utils\n",
    "from gensim.models.doc2vec import LabeledSentence\n",
    "from gensim.models import Doc2Vec\n",
    "\n",
    "# numpy\n",
    "import numpy\n",
    "\n",
    "# random\n",
    "from random import shuffle\n",
    "\n",
    "\n",
    "%matplotlib inline\n",
    "training_tokens = pd.read_pickle('../data/training_tokens.pk')\n",
    "test_tokens = pd.read_pickle('../data/test_tokens.pk')\n",
    "df_variants = pd.read_csv('../data/training_variants.csv',index_col=0)\n",
    "df = pd.merge(df_variants,training_tokens,left_index=True,right_index=True)\n",
    "df.head()"
   ]
  },
  {
   "cell_type": "code",
   "execution_count": 9,
   "metadata": {
    "collapsed": true
   },
   "outputs": [],
   "source": [
    "class LabeledLineSentence(object):\n",
    "    def __init__(self, sources):\n",
    "        self.sources = sources\n",
    "    \n",
    "    def __iter__(self):\n",
    "        for source, series in self.sources.items():\n",
    "            for item_no, list_ in enumerate(series):\n",
    "                yield LabeledSentence(list_, [source + '_%s' % item_no])\n",
    "    \n",
    "    def to_array(self):\n",
    "        self.sentences = []\n",
    "        for source, series in self.sources.items():\n",
    "            for item_no, list_ in enumerate(series):\n",
    "                self.sentences.append(LabeledSentence(list_, [source + '_%s' % item_no]))\n",
    "        return self.sentences\n",
    "    \n",
    "    def sentences_perm(self):\n",
    "        shuffle(self.sentences)\n",
    "        return self.sentences"
   ]
  },
  {
   "cell_type": "code",
   "execution_count": 76,
   "metadata": {},
   "outputs": [],
   "source": [
    "ll = LabeledLineSentence({'train':training_tokens.processed,'test':test_tokens.processed})\n",
    "\n",
    "model = Doc2Vec(min_count=1, window=10, size=100, negative=5, workers=8)\n",
    "\n",
    "model.build_vocab(ll.to_array())"
   ]
  },
  {
   "cell_type": "code",
   "execution_count": 77,
   "metadata": {},
   "outputs": [
    {
     "data": {
      "text/plain": [
       "436817904"
      ]
     },
     "execution_count": 77,
     "metadata": {},
     "output_type": "execute_result"
    }
   ],
   "source": [
    "model.train(ll.sentences,total_examples=model.corpus_count,epochs=10)"
   ]
  },
  {
   "cell_type": "code",
   "execution_count": 78,
   "metadata": {},
   "outputs": [],
   "source": [
    "model.save('./imdb.d2v')\n",
    "model = Doc2Vec.load('./imdb.d2v')"
   ]
  },
  {
   "cell_type": "code",
   "execution_count": 79,
   "metadata": {},
   "outputs": [],
   "source": [
    "training_docvecs = np.vstack([model.docvecs['train_{}'.format(i)] for i in range(training_tokens.shape[0])])"
   ]
  },
  {
   "cell_type": "code",
   "execution_count": 80,
   "metadata": {},
   "outputs": [
    {
     "data": {
      "text/plain": [
       "array([ 2.05214121,  1.89688489,  1.87893022])"
      ]
     },
     "execution_count": 80,
     "metadata": {},
     "output_type": "execute_result"
    }
   ],
   "source": [
    "from sklearn.linear_model import LogisticRegression\n",
    "from sklearn.model_selection import cross_val_score\n",
    "lr = LogisticRegression()\n",
    "-cross_val_score(lr,training_docvecs,df.Class,scoring='neg_log_loss')"
   ]
  },
  {
   "cell_type": "code",
   "execution_count": 81,
   "metadata": {},
   "outputs": [
    {
     "data": {
      "text/plain": [
       "array([ 1.7555764 ,  1.73151985,  1.73879514])"
      ]
     },
     "execution_count": 81,
     "metadata": {},
     "output_type": "execute_result"
    }
   ],
   "source": [
    "from sklearn.svm import SVC\n",
    "svc = SVC(probability=True)\n",
    "-cross_val_score(svc,training_docvecs,df.Class,scoring='neg_log_loss',n_jobs=-1)"
   ]
  },
  {
   "cell_type": "code",
   "execution_count": 82,
   "metadata": {},
   "outputs": [
    {
     "data": {
      "text/plain": [
       "array([[289,  26,   0, 145,  19,  16,  72,   1,   0],\n",
       "       [ 23, 137,   1,  28,  14,  10, 239,   0,   0],\n",
       "       [  5,   1,  26,  21,   2,   1,  33,   0,   0],\n",
       "       [119,  17,   7, 399,  16,  12, 116,   0,   0],\n",
       "       [ 40,   5,   3,  46,  64,  14,  70,   0,   0],\n",
       "       [ 33,   8,   3,  33,   7, 139,  52,   0,   0],\n",
       "       [ 32,  60,   6,  61,   9,  14, 770,   0,   1],\n",
       "       [  2,   0,   0,   0,   0,   0,   5,  11,   1],\n",
       "       [  2,   1,   0,   0,   0,   0,   4,   0,  30]])"
      ]
     },
     "execution_count": 82,
     "metadata": {},
     "output_type": "execute_result"
    }
   ],
   "source": [
    "lr.fit(training_docvecs,df.Class)\n",
    "pred = lr.predict(training_docvecs)\n",
    "from sklearn.metrics import confusion_matrix\n",
    "confusion_matrix(df.Class.values,pred)"
   ]
  },
  {
   "cell_type": "code",
   "execution_count": 83,
   "metadata": {},
   "outputs": [
    {
     "data": {
      "text/plain": [
       "array([[487,   3,   1,  50,  18,   5,   4,   0,   0],\n",
       "       [  6, 349,   0,   9,   2,   2,  84,   0,   0],\n",
       "       [  4,   0,  31,  19,   4,   0,  31,   0,   0],\n",
       "       [ 20,   0,   3, 643,  11,   3,   6,   0,   0],\n",
       "       [ 39,   5,   4,  18, 133,  11,  32,   0,   0],\n",
       "       [ 21,   5,   1,  14,   8, 213,  13,   0,   0],\n",
       "       [  2,   7,   6,   8,   6,   0, 924,   0,   0],\n",
       "       [  2,   1,   0,   0,   0,   0,   6,   9,   1],\n",
       "       [  3,   1,   0,   2,   0,   0,   3,   0,  28]])"
      ]
     },
     "execution_count": 83,
     "metadata": {},
     "output_type": "execute_result"
    }
   ],
   "source": [
    "svc.fit(training_docvecs,df.Class)\n",
    "pred = svc.predict(training_docvecs)\n",
    "from sklearn.metrics import confusion_matrix\n",
    "confusion_matrix(df.Class.values,pred)"
   ]
  },
  {
   "cell_type": "code",
   "execution_count": 84,
   "metadata": {
    "collapsed": true
   },
   "outputs": [],
   "source": [
    "from sklearn.metrics import log_loss"
   ]
  },
  {
   "cell_type": "code",
   "execution_count": 85,
   "metadata": {},
   "outputs": [
    {
     "name": "stdout",
     "output_type": "stream",
     "text": [
      "0.502919342836\n",
      "1.22059425388\n"
     ]
    }
   ],
   "source": [
    "print(log_loss(df.Class,svc.predict_proba(training_docvecs)))\n",
    "print(log_loss(df.Class,lr.predict_proba(training_docvecs)))"
   ]
  },
  {
   "cell_type": "code",
   "execution_count": 86,
   "metadata": {},
   "outputs": [
    {
     "data": {
      "text/plain": [
       "GridSearchCV(cv=None, error_score='raise',\n",
       "       estimator=SVC(C=1.0, cache_size=200, class_weight=None, coef0=0.0,\n",
       "  decision_function_shape=None, degree=3, gamma='auto', kernel='rbf',\n",
       "  max_iter=-1, probability=True, random_state=None, shrinking=True,\n",
       "  tol=0.001, verbose=False),\n",
       "       fit_params={}, iid=True, n_jobs=-1,\n",
       "       param_grid={'C': [0.0625, 0.125, 0.25, 0.5, 1, 2, 4, 8, 16]},\n",
       "       pre_dispatch='2*n_jobs', refit=True, return_train_score=True,\n",
       "       scoring='neg_log_loss', verbose=0)"
      ]
     },
     "execution_count": 86,
     "metadata": {},
     "output_type": "execute_result"
    }
   ],
   "source": [
    "from sklearn.model_selection import GridSearchCV\n",
    "params = {'C':[2**i for i in range(-4,5)]}\n",
    "gs = GridSearchCV(svc,params,scoring='neg_log_loss',n_jobs=-1)\n",
    "gs.fit(training_docvecs,df.Class)"
   ]
  },
  {
   "cell_type": "code",
   "execution_count": 87,
   "metadata": {},
   "outputs": [
    {
     "name": "stderr",
     "output_type": "stream",
     "text": [
      "/home/ec2-user/yes/lib/python3.6/site-packages/sklearn/model_selection/_search.py:667: DeprecationWarning: The grid_scores_ attribute was deprecated in version 0.18 in favor of the more elaborate cv_results_ attribute. The grid_scores_ attribute will not be available from 0.20\n",
      "  DeprecationWarning)\n"
     ]
    },
    {
     "data": {
      "text/plain": [
       "[mean: -1.75708, std: 0.03146, params: {'C': 0.0625},\n",
       " mean: -1.75383, std: 0.03641, params: {'C': 0.125},\n",
       " mean: -1.73908, std: 0.03921, params: {'C': 0.25},\n",
       " mean: -1.74365, std: 0.03610, params: {'C': 0.5},\n",
       " mean: -1.74478, std: 0.01755, params: {'C': 1},\n",
       " mean: -1.75564, std: 0.02748, params: {'C': 2},\n",
       " mean: -1.76119, std: 0.03527, params: {'C': 4},\n",
       " mean: -1.77003, std: 0.04862, params: {'C': 8},\n",
       " mean: -1.77746, std: 0.04930, params: {'C': 16}]"
      ]
     },
     "execution_count": 87,
     "metadata": {},
     "output_type": "execute_result"
    }
   ],
   "source": [
    "gs.grid_scores_"
   ]
  },
  {
   "cell_type": "code",
   "execution_count": null,
   "metadata": {
    "collapsed": true
   },
   "outputs": [],
   "source": []
  }
 ],
 "metadata": {
  "kernelspec": {
   "display_name": "Python 3",
   "language": "python",
   "name": "python3"
  },
  "language_info": {
   "codemirror_mode": {
    "name": "ipython",
    "version": 3
   },
   "file_extension": ".py",
   "mimetype": "text/x-python",
   "name": "python",
   "nbconvert_exporter": "python",
   "pygments_lexer": "ipython3",
   "version": "3.6.1"
  }
 },
 "nbformat": 4,
 "nbformat_minor": 2
}
